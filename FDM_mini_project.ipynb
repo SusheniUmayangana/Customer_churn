{
  "cells": [
    {
      "cell_type": "markdown",
      "metadata": {
        "id": "view-in-github",
        "colab_type": "text"
      },
      "source": [
        "<a href=\"https://colab.research.google.com/github/SusheniUmayangana/Customer_churn/blob/main/FDM_mini_project.ipynb\" target=\"_parent\"><img src=\"https://colab.research.google.com/assets/colab-badge.svg\" alt=\"Open In Colab\"/></a>"
      ]
    },
    {
      "cell_type": "code",
      "execution_count": 2,
      "metadata": {
        "id": "Iu76Na-vRZGs",
        "colab": {
          "base_uri": "https://localhost:8080/"
        },
        "outputId": "11c419d9-cc7d-4ab5-9c3f-a80fa3639c10"
      },
      "outputs": [
        {
          "output_type": "stream",
          "name": "stdout",
          "text": [
            "fatal: destination path 'Customer_churn' already exists and is not an empty directory.\n"
          ]
        }
      ],
      "source": [
        "!git clone https://github.com/SusheniUmayangana/Customer_churn.git"
      ]
    },
    {
      "cell_type": "markdown",
      "metadata": {
        "id": "0FnN_KLD56yB"
      },
      "source": [
        "# Data preprocessing"
      ]
    },
    {
      "cell_type": "code",
      "execution_count": 3,
      "metadata": {
        "id": "BfvZmZOSS3vr"
      },
      "outputs": [],
      "source": [
        "import pandas as pd\n",
        "import numpy as np\n",
        "import matplotlib.pyplot as plt\n",
        "import seaborn as sns\n",
        "import matplotlib.pyplot as plt\n",
        "from sklearn.model_selection import train_test_split\n",
        "from sklearn.linear_model import LogisticRegression\n",
        "from sklearn.metrics import accuracy_score"
      ]
    },
    {
      "cell_type": "code",
      "execution_count": 4,
      "metadata": {
        "id": "QQ8oAF5klBYJ",
        "colab": {
          "base_uri": "https://localhost:8080/",
          "height": 550
        },
        "outputId": "2e0c1593-ac48-4937-cc38-c88d05d23102"
      },
      "outputs": [
        {
          "output_type": "stream",
          "name": "stderr",
          "text": [
            "/tmp/ipython-input-3754532952.py:2: DtypeWarning: Columns (0,19,24) have mixed types. Specify dtype option on import or set low_memory=False.\n",
            "  df = pd.read_csv(csv_url)\n"
          ]
        },
        {
          "output_type": "execute_result",
          "data": {
            "text/plain": [
              "  RowNumber                           customer_id   Surname   first_name  \\\n",
              "0   46413.0  10e0525d-b753-4f9a-a6a5-2d7a7f9fb30c     Brown      Michael   \n",
              "1  111647.0  cbea14b7-cccd-4730-bffe-9935ab31e006  Gonzales          NaN   \n",
              "2   75863.0  7e66bc02-52d1-4655-b2bd-d2e612bcd4f6     Smith     Michelle   \n",
              "3   83494.0  a96b1224-e54b-4dd1-ab2b-c89d9019ed96  Anderson      Michael   \n",
              "4   67278.0  bc8c8831-a7d2-4228-b835-a1e6ace7db99      Hess  Christopher   \n",
              "\n",
              "          dob  Gender marital_status dependents                   Occupation  \\\n",
              "0  1994-04-30  Female        Married          3          Production engineer   \n",
              "1  1966-12-25    Male        Married          5               Futures trader   \n",
              "2  1976-02-28  Female        Married          1         Designer, multimedia   \n",
              "3  04-27-1965  Female         Single          1  Community education officer   \n",
              "4  1963-08-04    Male        Married          5                   Printmaker   \n",
              "\n",
              "       Income  ... preferred_contact credit_score credit_history_years  \\\n",
              "0  $84,239.91  ...             Email        395.0                 28.0   \n",
              "1    40457.52  ...             Phone        667.0                 20.0   \n",
              "2     71805.6  ...             Phone        443.0                 22.0   \n",
              "3    91996.19  ...             Email        580.0                  5.0   \n",
              "4    41913.33  ...             Phone        622.0                 16.0   \n",
              "\n",
              "  outstanding_debt churned churn_reason  churn_date    Balance  \\\n",
              "0         28241.22     0.0          NaN         NaN  222149.73   \n",
              "1         45109.20     0.0          NaN         NaN  231669.47   \n",
              "2         38983.71     0.0          NaN         NaN   191195.9   \n",
              "3         47595.23     0.0          NaN         NaN   129644.6   \n",
              "4         28403.67     0.0          NaN         NaN  199453.93   \n",
              "\n",
              "   products_count complaints_count  \n",
              "0             1.0              3.0  \n",
              "1             2.0              4.0  \n",
              "2             4.0              2.0  \n",
              "3             3.0              4.0  \n",
              "4             5.0              7.0  \n",
              "\n",
              "[5 rows x 25 columns]"
            ],
            "text/html": [
              "\n",
              "  <div id=\"df-830cb60f-3051-4773-8cfe-a11792f3c03e\" class=\"colab-df-container\">\n",
              "    <div>\n",
              "<style scoped>\n",
              "    .dataframe tbody tr th:only-of-type {\n",
              "        vertical-align: middle;\n",
              "    }\n",
              "\n",
              "    .dataframe tbody tr th {\n",
              "        vertical-align: top;\n",
              "    }\n",
              "\n",
              "    .dataframe thead th {\n",
              "        text-align: right;\n",
              "    }\n",
              "</style>\n",
              "<table border=\"1\" class=\"dataframe\">\n",
              "  <thead>\n",
              "    <tr style=\"text-align: right;\">\n",
              "      <th></th>\n",
              "      <th>RowNumber</th>\n",
              "      <th>customer_id</th>\n",
              "      <th>Surname</th>\n",
              "      <th>first_name</th>\n",
              "      <th>dob</th>\n",
              "      <th>Gender</th>\n",
              "      <th>marital_status</th>\n",
              "      <th>dependents</th>\n",
              "      <th>Occupation</th>\n",
              "      <th>Income</th>\n",
              "      <th>...</th>\n",
              "      <th>preferred_contact</th>\n",
              "      <th>credit_score</th>\n",
              "      <th>credit_history_years</th>\n",
              "      <th>outstanding_debt</th>\n",
              "      <th>churned</th>\n",
              "      <th>churn_reason</th>\n",
              "      <th>churn_date</th>\n",
              "      <th>Balance</th>\n",
              "      <th>products_count</th>\n",
              "      <th>complaints_count</th>\n",
              "    </tr>\n",
              "  </thead>\n",
              "  <tbody>\n",
              "    <tr>\n",
              "      <th>0</th>\n",
              "      <td>46413.0</td>\n",
              "      <td>10e0525d-b753-4f9a-a6a5-2d7a7f9fb30c</td>\n",
              "      <td>Brown</td>\n",
              "      <td>Michael</td>\n",
              "      <td>1994-04-30</td>\n",
              "      <td>Female</td>\n",
              "      <td>Married</td>\n",
              "      <td>3</td>\n",
              "      <td>Production engineer</td>\n",
              "      <td>$84,239.91</td>\n",
              "      <td>...</td>\n",
              "      <td>Email</td>\n",
              "      <td>395.0</td>\n",
              "      <td>28.0</td>\n",
              "      <td>28241.22</td>\n",
              "      <td>0.0</td>\n",
              "      <td>NaN</td>\n",
              "      <td>NaN</td>\n",
              "      <td>222149.73</td>\n",
              "      <td>1.0</td>\n",
              "      <td>3.0</td>\n",
              "    </tr>\n",
              "    <tr>\n",
              "      <th>1</th>\n",
              "      <td>111647.0</td>\n",
              "      <td>cbea14b7-cccd-4730-bffe-9935ab31e006</td>\n",
              "      <td>Gonzales</td>\n",
              "      <td>NaN</td>\n",
              "      <td>1966-12-25</td>\n",
              "      <td>Male</td>\n",
              "      <td>Married</td>\n",
              "      <td>5</td>\n",
              "      <td>Futures trader</td>\n",
              "      <td>40457.52</td>\n",
              "      <td>...</td>\n",
              "      <td>Phone</td>\n",
              "      <td>667.0</td>\n",
              "      <td>20.0</td>\n",
              "      <td>45109.20</td>\n",
              "      <td>0.0</td>\n",
              "      <td>NaN</td>\n",
              "      <td>NaN</td>\n",
              "      <td>231669.47</td>\n",
              "      <td>2.0</td>\n",
              "      <td>4.0</td>\n",
              "    </tr>\n",
              "    <tr>\n",
              "      <th>2</th>\n",
              "      <td>75863.0</td>\n",
              "      <td>7e66bc02-52d1-4655-b2bd-d2e612bcd4f6</td>\n",
              "      <td>Smith</td>\n",
              "      <td>Michelle</td>\n",
              "      <td>1976-02-28</td>\n",
              "      <td>Female</td>\n",
              "      <td>Married</td>\n",
              "      <td>1</td>\n",
              "      <td>Designer, multimedia</td>\n",
              "      <td>71805.6</td>\n",
              "      <td>...</td>\n",
              "      <td>Phone</td>\n",
              "      <td>443.0</td>\n",
              "      <td>22.0</td>\n",
              "      <td>38983.71</td>\n",
              "      <td>0.0</td>\n",
              "      <td>NaN</td>\n",
              "      <td>NaN</td>\n",
              "      <td>191195.9</td>\n",
              "      <td>4.0</td>\n",
              "      <td>2.0</td>\n",
              "    </tr>\n",
              "    <tr>\n",
              "      <th>3</th>\n",
              "      <td>83494.0</td>\n",
              "      <td>a96b1224-e54b-4dd1-ab2b-c89d9019ed96</td>\n",
              "      <td>Anderson</td>\n",
              "      <td>Michael</td>\n",
              "      <td>04-27-1965</td>\n",
              "      <td>Female</td>\n",
              "      <td>Single</td>\n",
              "      <td>1</td>\n",
              "      <td>Community education officer</td>\n",
              "      <td>91996.19</td>\n",
              "      <td>...</td>\n",
              "      <td>Email</td>\n",
              "      <td>580.0</td>\n",
              "      <td>5.0</td>\n",
              "      <td>47595.23</td>\n",
              "      <td>0.0</td>\n",
              "      <td>NaN</td>\n",
              "      <td>NaN</td>\n",
              "      <td>129644.6</td>\n",
              "      <td>3.0</td>\n",
              "      <td>4.0</td>\n",
              "    </tr>\n",
              "    <tr>\n",
              "      <th>4</th>\n",
              "      <td>67278.0</td>\n",
              "      <td>bc8c8831-a7d2-4228-b835-a1e6ace7db99</td>\n",
              "      <td>Hess</td>\n",
              "      <td>Christopher</td>\n",
              "      <td>1963-08-04</td>\n",
              "      <td>Male</td>\n",
              "      <td>Married</td>\n",
              "      <td>5</td>\n",
              "      <td>Printmaker</td>\n",
              "      <td>41913.33</td>\n",
              "      <td>...</td>\n",
              "      <td>Phone</td>\n",
              "      <td>622.0</td>\n",
              "      <td>16.0</td>\n",
              "      <td>28403.67</td>\n",
              "      <td>0.0</td>\n",
              "      <td>NaN</td>\n",
              "      <td>NaN</td>\n",
              "      <td>199453.93</td>\n",
              "      <td>5.0</td>\n",
              "      <td>7.0</td>\n",
              "    </tr>\n",
              "  </tbody>\n",
              "</table>\n",
              "<p>5 rows × 25 columns</p>\n",
              "</div>\n",
              "    <div class=\"colab-df-buttons\">\n",
              "\n",
              "  <div class=\"colab-df-container\">\n",
              "    <button class=\"colab-df-convert\" onclick=\"convertToInteractive('df-830cb60f-3051-4773-8cfe-a11792f3c03e')\"\n",
              "            title=\"Convert this dataframe to an interactive table.\"\n",
              "            style=\"display:none;\">\n",
              "\n",
              "  <svg xmlns=\"http://www.w3.org/2000/svg\" height=\"24px\" viewBox=\"0 -960 960 960\">\n",
              "    <path d=\"M120-120v-720h720v720H120Zm60-500h600v-160H180v160Zm220 220h160v-160H400v160Zm0 220h160v-160H400v160ZM180-400h160v-160H180v160Zm440 0h160v-160H620v160ZM180-180h160v-160H180v160Zm440 0h160v-160H620v160Z\"/>\n",
              "  </svg>\n",
              "    </button>\n",
              "\n",
              "  <style>\n",
              "    .colab-df-container {\n",
              "      display:flex;\n",
              "      gap: 12px;\n",
              "    }\n",
              "\n",
              "    .colab-df-convert {\n",
              "      background-color: #E8F0FE;\n",
              "      border: none;\n",
              "      border-radius: 50%;\n",
              "      cursor: pointer;\n",
              "      display: none;\n",
              "      fill: #1967D2;\n",
              "      height: 32px;\n",
              "      padding: 0 0 0 0;\n",
              "      width: 32px;\n",
              "    }\n",
              "\n",
              "    .colab-df-convert:hover {\n",
              "      background-color: #E2EBFA;\n",
              "      box-shadow: 0px 1px 2px rgba(60, 64, 67, 0.3), 0px 1px 3px 1px rgba(60, 64, 67, 0.15);\n",
              "      fill: #174EA6;\n",
              "    }\n",
              "\n",
              "    .colab-df-buttons div {\n",
              "      margin-bottom: 4px;\n",
              "    }\n",
              "\n",
              "    [theme=dark] .colab-df-convert {\n",
              "      background-color: #3B4455;\n",
              "      fill: #D2E3FC;\n",
              "    }\n",
              "\n",
              "    [theme=dark] .colab-df-convert:hover {\n",
              "      background-color: #434B5C;\n",
              "      box-shadow: 0px 1px 3px 1px rgba(0, 0, 0, 0.15);\n",
              "      filter: drop-shadow(0px 1px 2px rgba(0, 0, 0, 0.3));\n",
              "      fill: #FFFFFF;\n",
              "    }\n",
              "  </style>\n",
              "\n",
              "    <script>\n",
              "      const buttonEl =\n",
              "        document.querySelector('#df-830cb60f-3051-4773-8cfe-a11792f3c03e button.colab-df-convert');\n",
              "      buttonEl.style.display =\n",
              "        google.colab.kernel.accessAllowed ? 'block' : 'none';\n",
              "\n",
              "      async function convertToInteractive(key) {\n",
              "        const element = document.querySelector('#df-830cb60f-3051-4773-8cfe-a11792f3c03e');\n",
              "        const dataTable =\n",
              "          await google.colab.kernel.invokeFunction('convertToInteractive',\n",
              "                                                    [key], {});\n",
              "        if (!dataTable) return;\n",
              "\n",
              "        const docLinkHtml = 'Like what you see? Visit the ' +\n",
              "          '<a target=\"_blank\" href=https://colab.research.google.com/notebooks/data_table.ipynb>data table notebook</a>'\n",
              "          + ' to learn more about interactive tables.';\n",
              "        element.innerHTML = '';\n",
              "        dataTable['output_type'] = 'display_data';\n",
              "        await google.colab.output.renderOutput(dataTable, element);\n",
              "        const docLink = document.createElement('div');\n",
              "        docLink.innerHTML = docLinkHtml;\n",
              "        element.appendChild(docLink);\n",
              "      }\n",
              "    </script>\n",
              "  </div>\n",
              "\n",
              "\n",
              "    <div id=\"df-d8654773-48ea-4374-8fe6-b9fe7420b12a\">\n",
              "      <button class=\"colab-df-quickchart\" onclick=\"quickchart('df-d8654773-48ea-4374-8fe6-b9fe7420b12a')\"\n",
              "                title=\"Suggest charts\"\n",
              "                style=\"display:none;\">\n",
              "\n",
              "<svg xmlns=\"http://www.w3.org/2000/svg\" height=\"24px\"viewBox=\"0 0 24 24\"\n",
              "     width=\"24px\">\n",
              "    <g>\n",
              "        <path d=\"M19 3H5c-1.1 0-2 .9-2 2v14c0 1.1.9 2 2 2h14c1.1 0 2-.9 2-2V5c0-1.1-.9-2-2-2zM9 17H7v-7h2v7zm4 0h-2V7h2v10zm4 0h-2v-4h2v4z\"/>\n",
              "    </g>\n",
              "</svg>\n",
              "      </button>\n",
              "\n",
              "<style>\n",
              "  .colab-df-quickchart {\n",
              "      --bg-color: #E8F0FE;\n",
              "      --fill-color: #1967D2;\n",
              "      --hover-bg-color: #E2EBFA;\n",
              "      --hover-fill-color: #174EA6;\n",
              "      --disabled-fill-color: #AAA;\n",
              "      --disabled-bg-color: #DDD;\n",
              "  }\n",
              "\n",
              "  [theme=dark] .colab-df-quickchart {\n",
              "      --bg-color: #3B4455;\n",
              "      --fill-color: #D2E3FC;\n",
              "      --hover-bg-color: #434B5C;\n",
              "      --hover-fill-color: #FFFFFF;\n",
              "      --disabled-bg-color: #3B4455;\n",
              "      --disabled-fill-color: #666;\n",
              "  }\n",
              "\n",
              "  .colab-df-quickchart {\n",
              "    background-color: var(--bg-color);\n",
              "    border: none;\n",
              "    border-radius: 50%;\n",
              "    cursor: pointer;\n",
              "    display: none;\n",
              "    fill: var(--fill-color);\n",
              "    height: 32px;\n",
              "    padding: 0;\n",
              "    width: 32px;\n",
              "  }\n",
              "\n",
              "  .colab-df-quickchart:hover {\n",
              "    background-color: var(--hover-bg-color);\n",
              "    box-shadow: 0 1px 2px rgba(60, 64, 67, 0.3), 0 1px 3px 1px rgba(60, 64, 67, 0.15);\n",
              "    fill: var(--button-hover-fill-color);\n",
              "  }\n",
              "\n",
              "  .colab-df-quickchart-complete:disabled,\n",
              "  .colab-df-quickchart-complete:disabled:hover {\n",
              "    background-color: var(--disabled-bg-color);\n",
              "    fill: var(--disabled-fill-color);\n",
              "    box-shadow: none;\n",
              "  }\n",
              "\n",
              "  .colab-df-spinner {\n",
              "    border: 2px solid var(--fill-color);\n",
              "    border-color: transparent;\n",
              "    border-bottom-color: var(--fill-color);\n",
              "    animation:\n",
              "      spin 1s steps(1) infinite;\n",
              "  }\n",
              "\n",
              "  @keyframes spin {\n",
              "    0% {\n",
              "      border-color: transparent;\n",
              "      border-bottom-color: var(--fill-color);\n",
              "      border-left-color: var(--fill-color);\n",
              "    }\n",
              "    20% {\n",
              "      border-color: transparent;\n",
              "      border-left-color: var(--fill-color);\n",
              "      border-top-color: var(--fill-color);\n",
              "    }\n",
              "    30% {\n",
              "      border-color: transparent;\n",
              "      border-left-color: var(--fill-color);\n",
              "      border-top-color: var(--fill-color);\n",
              "      border-right-color: var(--fill-color);\n",
              "    }\n",
              "    40% {\n",
              "      border-color: transparent;\n",
              "      border-right-color: var(--fill-color);\n",
              "      border-top-color: var(--fill-color);\n",
              "    }\n",
              "    60% {\n",
              "      border-color: transparent;\n",
              "      border-right-color: var(--fill-color);\n",
              "    }\n",
              "    80% {\n",
              "      border-color: transparent;\n",
              "      border-right-color: var(--fill-color);\n",
              "      border-bottom-color: var(--fill-color);\n",
              "    }\n",
              "    90% {\n",
              "      border-color: transparent;\n",
              "      border-bottom-color: var(--fill-color);\n",
              "    }\n",
              "  }\n",
              "</style>\n",
              "\n",
              "      <script>\n",
              "        async function quickchart(key) {\n",
              "          const quickchartButtonEl =\n",
              "            document.querySelector('#' + key + ' button');\n",
              "          quickchartButtonEl.disabled = true;  // To prevent multiple clicks.\n",
              "          quickchartButtonEl.classList.add('colab-df-spinner');\n",
              "          try {\n",
              "            const charts = await google.colab.kernel.invokeFunction(\n",
              "                'suggestCharts', [key], {});\n",
              "          } catch (error) {\n",
              "            console.error('Error during call to suggestCharts:', error);\n",
              "          }\n",
              "          quickchartButtonEl.classList.remove('colab-df-spinner');\n",
              "          quickchartButtonEl.classList.add('colab-df-quickchart-complete');\n",
              "        }\n",
              "        (() => {\n",
              "          let quickchartButtonEl =\n",
              "            document.querySelector('#df-d8654773-48ea-4374-8fe6-b9fe7420b12a button');\n",
              "          quickchartButtonEl.style.display =\n",
              "            google.colab.kernel.accessAllowed ? 'block' : 'none';\n",
              "        })();\n",
              "      </script>\n",
              "    </div>\n",
              "\n",
              "    </div>\n",
              "  </div>\n"
            ],
            "application/vnd.google.colaboratory.intrinsic+json": {
              "type": "dataframe",
              "variable_name": "df"
            }
          },
          "metadata": {},
          "execution_count": 4
        }
      ],
      "source": [
        "csv_url = \"https://raw.githubusercontent.com/SusheniUmayangana/Customer_churn/main/data/botswana_bank_customer_churn.csv\"\n",
        "df = pd.read_csv(csv_url)\n",
        "df.head()\n"
      ]
    },
    {
      "cell_type": "code",
      "execution_count": 5,
      "metadata": {
        "id": "CszkAJ0ve7DO",
        "colab": {
          "base_uri": "https://localhost:8080/",
          "height": 855
        },
        "outputId": "fbef0574-0de5-49e3-d7ce-60e04285470b"
      },
      "outputs": [
        {
          "output_type": "stream",
          "name": "stdout",
          "text": [
            "<class 'pandas.core.frame.DataFrame'>\n",
            "RangeIndex: 117524 entries, 0 to 117523\n",
            "Data columns (total 25 columns):\n",
            " #   Column                Non-Null Count   Dtype  \n",
            "---  ------                --------------   -----  \n",
            " 0   RowNumber             117387 non-null  object \n",
            " 1   customer_id           117389 non-null  object \n",
            " 2   Surname               104029 non-null  object \n",
            " 3   first_name            111223 non-null  object \n",
            " 4   dob                   117382 non-null  object \n",
            " 5   Gender                117386 non-null  object \n",
            " 6   marital_status        117388 non-null  object \n",
            " 7   dependents            117085 non-null  object \n",
            " 8   Occupation            108296 non-null  object \n",
            " 9   Income                110276 non-null  object \n",
            " 10  education             117383 non-null  object \n",
            " 11  Address               108898 non-null  object \n",
            " 12  phone                 102926 non-null  object \n",
            " 13  tenure_years          117380 non-null  object \n",
            " 14  segment               117387 non-null  object \n",
            " 15  preferred_contact     117390 non-null  object \n",
            " 16  credit_score          108774 non-null  float64\n",
            " 17  credit_history_years  117385 non-null  object \n",
            " 18  outstanding_debt      114430 non-null  float64\n",
            " 19  churned               117384 non-null  object \n",
            " 20  churn_reason          14335 non-null   object \n",
            " 21  churn_date            14340 non-null   object \n",
            " 22  Balance               112070 non-null  object \n",
            " 23  products_count        117387 non-null  object \n",
            " 24  complaints_count      117384 non-null  object \n",
            "dtypes: float64(2), object(23)\n",
            "memory usage: 22.4+ MB\n"
          ]
        },
        {
          "output_type": "execute_result",
          "data": {
            "text/plain": [
              "        credit_score  outstanding_debt\n",
              "count  108774.000000     114430.000000\n",
              "mean      610.132762      25514.917676\n",
              "std       617.778115      14137.239796\n",
              "min      -100.000000       1000.430000\n",
              "25%       435.000000      13234.947500\n",
              "50%       575.000000      25510.005000\n",
              "75%       716.000000      37755.675000\n",
              "max      9999.000000      95268.910176"
            ],
            "text/html": [
              "\n",
              "  <div id=\"df-dd89be1a-4209-43a4-9de7-24d5a02225e5\" class=\"colab-df-container\">\n",
              "    <div>\n",
              "<style scoped>\n",
              "    .dataframe tbody tr th:only-of-type {\n",
              "        vertical-align: middle;\n",
              "    }\n",
              "\n",
              "    .dataframe tbody tr th {\n",
              "        vertical-align: top;\n",
              "    }\n",
              "\n",
              "    .dataframe thead th {\n",
              "        text-align: right;\n",
              "    }\n",
              "</style>\n",
              "<table border=\"1\" class=\"dataframe\">\n",
              "  <thead>\n",
              "    <tr style=\"text-align: right;\">\n",
              "      <th></th>\n",
              "      <th>credit_score</th>\n",
              "      <th>outstanding_debt</th>\n",
              "    </tr>\n",
              "  </thead>\n",
              "  <tbody>\n",
              "    <tr>\n",
              "      <th>count</th>\n",
              "      <td>108774.000000</td>\n",
              "      <td>114430.000000</td>\n",
              "    </tr>\n",
              "    <tr>\n",
              "      <th>mean</th>\n",
              "      <td>610.132762</td>\n",
              "      <td>25514.917676</td>\n",
              "    </tr>\n",
              "    <tr>\n",
              "      <th>std</th>\n",
              "      <td>617.778115</td>\n",
              "      <td>14137.239796</td>\n",
              "    </tr>\n",
              "    <tr>\n",
              "      <th>min</th>\n",
              "      <td>-100.000000</td>\n",
              "      <td>1000.430000</td>\n",
              "    </tr>\n",
              "    <tr>\n",
              "      <th>25%</th>\n",
              "      <td>435.000000</td>\n",
              "      <td>13234.947500</td>\n",
              "    </tr>\n",
              "    <tr>\n",
              "      <th>50%</th>\n",
              "      <td>575.000000</td>\n",
              "      <td>25510.005000</td>\n",
              "    </tr>\n",
              "    <tr>\n",
              "      <th>75%</th>\n",
              "      <td>716.000000</td>\n",
              "      <td>37755.675000</td>\n",
              "    </tr>\n",
              "    <tr>\n",
              "      <th>max</th>\n",
              "      <td>9999.000000</td>\n",
              "      <td>95268.910176</td>\n",
              "    </tr>\n",
              "  </tbody>\n",
              "</table>\n",
              "</div>\n",
              "    <div class=\"colab-df-buttons\">\n",
              "\n",
              "  <div class=\"colab-df-container\">\n",
              "    <button class=\"colab-df-convert\" onclick=\"convertToInteractive('df-dd89be1a-4209-43a4-9de7-24d5a02225e5')\"\n",
              "            title=\"Convert this dataframe to an interactive table.\"\n",
              "            style=\"display:none;\">\n",
              "\n",
              "  <svg xmlns=\"http://www.w3.org/2000/svg\" height=\"24px\" viewBox=\"0 -960 960 960\">\n",
              "    <path d=\"M120-120v-720h720v720H120Zm60-500h600v-160H180v160Zm220 220h160v-160H400v160Zm0 220h160v-160H400v160ZM180-400h160v-160H180v160Zm440 0h160v-160H620v160ZM180-180h160v-160H180v160Zm440 0h160v-160H620v160Z\"/>\n",
              "  </svg>\n",
              "    </button>\n",
              "\n",
              "  <style>\n",
              "    .colab-df-container {\n",
              "      display:flex;\n",
              "      gap: 12px;\n",
              "    }\n",
              "\n",
              "    .colab-df-convert {\n",
              "      background-color: #E8F0FE;\n",
              "      border: none;\n",
              "      border-radius: 50%;\n",
              "      cursor: pointer;\n",
              "      display: none;\n",
              "      fill: #1967D2;\n",
              "      height: 32px;\n",
              "      padding: 0 0 0 0;\n",
              "      width: 32px;\n",
              "    }\n",
              "\n",
              "    .colab-df-convert:hover {\n",
              "      background-color: #E2EBFA;\n",
              "      box-shadow: 0px 1px 2px rgba(60, 64, 67, 0.3), 0px 1px 3px 1px rgba(60, 64, 67, 0.15);\n",
              "      fill: #174EA6;\n",
              "    }\n",
              "\n",
              "    .colab-df-buttons div {\n",
              "      margin-bottom: 4px;\n",
              "    }\n",
              "\n",
              "    [theme=dark] .colab-df-convert {\n",
              "      background-color: #3B4455;\n",
              "      fill: #D2E3FC;\n",
              "    }\n",
              "\n",
              "    [theme=dark] .colab-df-convert:hover {\n",
              "      background-color: #434B5C;\n",
              "      box-shadow: 0px 1px 3px 1px rgba(0, 0, 0, 0.15);\n",
              "      filter: drop-shadow(0px 1px 2px rgba(0, 0, 0, 0.3));\n",
              "      fill: #FFFFFF;\n",
              "    }\n",
              "  </style>\n",
              "\n",
              "    <script>\n",
              "      const buttonEl =\n",
              "        document.querySelector('#df-dd89be1a-4209-43a4-9de7-24d5a02225e5 button.colab-df-convert');\n",
              "      buttonEl.style.display =\n",
              "        google.colab.kernel.accessAllowed ? 'block' : 'none';\n",
              "\n",
              "      async function convertToInteractive(key) {\n",
              "        const element = document.querySelector('#df-dd89be1a-4209-43a4-9de7-24d5a02225e5');\n",
              "        const dataTable =\n",
              "          await google.colab.kernel.invokeFunction('convertToInteractive',\n",
              "                                                    [key], {});\n",
              "        if (!dataTable) return;\n",
              "\n",
              "        const docLinkHtml = 'Like what you see? Visit the ' +\n",
              "          '<a target=\"_blank\" href=https://colab.research.google.com/notebooks/data_table.ipynb>data table notebook</a>'\n",
              "          + ' to learn more about interactive tables.';\n",
              "        element.innerHTML = '';\n",
              "        dataTable['output_type'] = 'display_data';\n",
              "        await google.colab.output.renderOutput(dataTable, element);\n",
              "        const docLink = document.createElement('div');\n",
              "        docLink.innerHTML = docLinkHtml;\n",
              "        element.appendChild(docLink);\n",
              "      }\n",
              "    </script>\n",
              "  </div>\n",
              "\n",
              "\n",
              "    <div id=\"df-2e5ce2a6-5466-407b-ae41-43c47ad9e96f\">\n",
              "      <button class=\"colab-df-quickchart\" onclick=\"quickchart('df-2e5ce2a6-5466-407b-ae41-43c47ad9e96f')\"\n",
              "                title=\"Suggest charts\"\n",
              "                style=\"display:none;\">\n",
              "\n",
              "<svg xmlns=\"http://www.w3.org/2000/svg\" height=\"24px\"viewBox=\"0 0 24 24\"\n",
              "     width=\"24px\">\n",
              "    <g>\n",
              "        <path d=\"M19 3H5c-1.1 0-2 .9-2 2v14c0 1.1.9 2 2 2h14c1.1 0 2-.9 2-2V5c0-1.1-.9-2-2-2zM9 17H7v-7h2v7zm4 0h-2V7h2v10zm4 0h-2v-4h2v4z\"/>\n",
              "    </g>\n",
              "</svg>\n",
              "      </button>\n",
              "\n",
              "<style>\n",
              "  .colab-df-quickchart {\n",
              "      --bg-color: #E8F0FE;\n",
              "      --fill-color: #1967D2;\n",
              "      --hover-bg-color: #E2EBFA;\n",
              "      --hover-fill-color: #174EA6;\n",
              "      --disabled-fill-color: #AAA;\n",
              "      --disabled-bg-color: #DDD;\n",
              "  }\n",
              "\n",
              "  [theme=dark] .colab-df-quickchart {\n",
              "      --bg-color: #3B4455;\n",
              "      --fill-color: #D2E3FC;\n",
              "      --hover-bg-color: #434B5C;\n",
              "      --hover-fill-color: #FFFFFF;\n",
              "      --disabled-bg-color: #3B4455;\n",
              "      --disabled-fill-color: #666;\n",
              "  }\n",
              "\n",
              "  .colab-df-quickchart {\n",
              "    background-color: var(--bg-color);\n",
              "    border: none;\n",
              "    border-radius: 50%;\n",
              "    cursor: pointer;\n",
              "    display: none;\n",
              "    fill: var(--fill-color);\n",
              "    height: 32px;\n",
              "    padding: 0;\n",
              "    width: 32px;\n",
              "  }\n",
              "\n",
              "  .colab-df-quickchart:hover {\n",
              "    background-color: var(--hover-bg-color);\n",
              "    box-shadow: 0 1px 2px rgba(60, 64, 67, 0.3), 0 1px 3px 1px rgba(60, 64, 67, 0.15);\n",
              "    fill: var(--button-hover-fill-color);\n",
              "  }\n",
              "\n",
              "  .colab-df-quickchart-complete:disabled,\n",
              "  .colab-df-quickchart-complete:disabled:hover {\n",
              "    background-color: var(--disabled-bg-color);\n",
              "    fill: var(--disabled-fill-color);\n",
              "    box-shadow: none;\n",
              "  }\n",
              "\n",
              "  .colab-df-spinner {\n",
              "    border: 2px solid var(--fill-color);\n",
              "    border-color: transparent;\n",
              "    border-bottom-color: var(--fill-color);\n",
              "    animation:\n",
              "      spin 1s steps(1) infinite;\n",
              "  }\n",
              "\n",
              "  @keyframes spin {\n",
              "    0% {\n",
              "      border-color: transparent;\n",
              "      border-bottom-color: var(--fill-color);\n",
              "      border-left-color: var(--fill-color);\n",
              "    }\n",
              "    20% {\n",
              "      border-color: transparent;\n",
              "      border-left-color: var(--fill-color);\n",
              "      border-top-color: var(--fill-color);\n",
              "    }\n",
              "    30% {\n",
              "      border-color: transparent;\n",
              "      border-left-color: var(--fill-color);\n",
              "      border-top-color: var(--fill-color);\n",
              "      border-right-color: var(--fill-color);\n",
              "    }\n",
              "    40% {\n",
              "      border-color: transparent;\n",
              "      border-right-color: var(--fill-color);\n",
              "      border-top-color: var(--fill-color);\n",
              "    }\n",
              "    60% {\n",
              "      border-color: transparent;\n",
              "      border-right-color: var(--fill-color);\n",
              "    }\n",
              "    80% {\n",
              "      border-color: transparent;\n",
              "      border-right-color: var(--fill-color);\n",
              "      border-bottom-color: var(--fill-color);\n",
              "    }\n",
              "    90% {\n",
              "      border-color: transparent;\n",
              "      border-bottom-color: var(--fill-color);\n",
              "    }\n",
              "  }\n",
              "</style>\n",
              "\n",
              "      <script>\n",
              "        async function quickchart(key) {\n",
              "          const quickchartButtonEl =\n",
              "            document.querySelector('#' + key + ' button');\n",
              "          quickchartButtonEl.disabled = true;  // To prevent multiple clicks.\n",
              "          quickchartButtonEl.classList.add('colab-df-spinner');\n",
              "          try {\n",
              "            const charts = await google.colab.kernel.invokeFunction(\n",
              "                'suggestCharts', [key], {});\n",
              "          } catch (error) {\n",
              "            console.error('Error during call to suggestCharts:', error);\n",
              "          }\n",
              "          quickchartButtonEl.classList.remove('colab-df-spinner');\n",
              "          quickchartButtonEl.classList.add('colab-df-quickchart-complete');\n",
              "        }\n",
              "        (() => {\n",
              "          let quickchartButtonEl =\n",
              "            document.querySelector('#df-2e5ce2a6-5466-407b-ae41-43c47ad9e96f button');\n",
              "          quickchartButtonEl.style.display =\n",
              "            google.colab.kernel.accessAllowed ? 'block' : 'none';\n",
              "        })();\n",
              "      </script>\n",
              "    </div>\n",
              "\n",
              "    </div>\n",
              "  </div>\n"
            ],
            "application/vnd.google.colaboratory.intrinsic+json": {
              "type": "dataframe",
              "summary": "{\n  \"name\": \"df\",\n  \"rows\": 8,\n  \"fields\": [\n    {\n      \"column\": \"credit_score\",\n      \"properties\": {\n        \"dtype\": \"number\",\n        \"std\": 37955.653284194865,\n        \"min\": -100.0,\n        \"max\": 108774.0,\n        \"num_unique_values\": 8,\n        \"samples\": [\n          610.1327615055068,\n          575.0,\n          108774.0\n        ],\n        \"semantic_type\": \"\",\n        \"description\": \"\"\n      }\n    },\n    {\n      \"column\": \"outstanding_debt\",\n      \"properties\": {\n        \"dtype\": \"number\",\n        \"std\": 41265.06616691622,\n        \"min\": 1000.43,\n        \"max\": 114430.0,\n        \"num_unique_values\": 8,\n        \"samples\": [\n          25514.91767616947,\n          25510.005,\n          114430.0\n        ],\n        \"semantic_type\": \"\",\n        \"description\": \"\"\n      }\n    }\n  ]\n}"
            }
          },
          "metadata": {},
          "execution_count": 5
        }
      ],
      "source": [
        "df.info()\n",
        "df.describe()"
      ]
    },
    {
      "cell_type": "code",
      "execution_count": 6,
      "metadata": {
        "id": "GGNUMceZickV",
        "colab": {
          "base_uri": "https://localhost:8080/"
        },
        "outputId": "9c3dc571-f98b-48e6-991f-b2f9c3341ac7"
      },
      "outputs": [
        {
          "output_type": "stream",
          "name": "stdout",
          "text": [
            "RowNumber                  137\n",
            "customer_id                135\n",
            "Surname                  13495\n",
            "first_name                6301\n",
            "dob                        142\n",
            "Gender                     138\n",
            "marital_status             136\n",
            "dependents                 439\n",
            "Occupation                9228\n",
            "Income                    7248\n",
            "education                  141\n",
            "Address                   8626\n",
            "phone                    14598\n",
            "tenure_years               144\n",
            "segment                    137\n",
            "preferred_contact          134\n",
            "credit_score              8750\n",
            "credit_history_years       139\n",
            "outstanding_debt          3094\n",
            "churned                    140\n",
            "churn_reason            103189\n",
            "churn_date              103184\n",
            "Balance                   5454\n",
            "products_count             137\n",
            "complaints_count           140\n",
            "dtype: int64\n"
          ]
        }
      ],
      "source": [
        "print(df.isnull().sum())"
      ]
    },
    {
      "cell_type": "code",
      "execution_count": 7,
      "metadata": {
        "id": "Zuw5mrsvpRNa"
      },
      "outputs": [],
      "source": [
        "df.columns = df.columns.str.strip().str.lower().str.replace(' ', '_')   #clean column names"
      ]
    },
    {
      "cell_type": "code",
      "execution_count": 8,
      "metadata": {
        "id": "B8RZVh65fKlE"
      },
      "outputs": [],
      "source": [
        "df.drop(['churn_reason', 'churn_date'], axis=1, inplace=True)   # Drop Irrelevant / High-Null Columns"
      ]
    },
    {
      "cell_type": "code",
      "execution_count": 9,
      "metadata": {
        "id": "WbfG_eHrfWJP"
      },
      "outputs": [],
      "source": [
        "df.dropna(subset=['customer_id', 'rownumber'], inplace=True)   # Handle Missing Values"
      ]
    },
    {
      "cell_type": "code",
      "execution_count": 10,
      "metadata": {
        "id": "XJB9mwTmfZwV"
      },
      "outputs": [],
      "source": [
        "# Fill categorical\n",
        "\n",
        "cat_cols = ['gender', 'marital_status', 'dependents', 'occupation', 'education',\n",
        "            'address', 'phone', 'segment', 'preferred_contact', 'credit_history_years',\n",
        "            'churned', 'products_count', 'complaints_count']\n",
        "for col in cat_cols:\n",
        "    df[col] = df[col].fillna(df[col].mode()[0])\n"
      ]
    },
    {
      "cell_type": "code",
      "execution_count": 11,
      "metadata": {
        "id": "NUwAAgjHgqDN"
      },
      "outputs": [],
      "source": [
        "# Fill numerical\n",
        "num_cols = ['credit_score', 'outstanding_debt', 'income', 'balance', 'tenure_years']\n",
        "for col in num_cols:\n",
        "    df[col] = pd.to_numeric(df[col], errors='coerce')  # convert to numeric\n",
        "    df[col] = df[col].fillna(df[col].median())"
      ]
    },
    {
      "cell_type": "code",
      "execution_count": 12,
      "metadata": {
        "id": "RK6ytFRSgtTI"
      },
      "outputs": [],
      "source": [
        "df.drop_duplicates(inplace=True)    # Remove duplicates"
      ]
    },
    {
      "cell_type": "code",
      "execution_count": 13,
      "metadata": {
        "id": "vHKc_PCoOgyG"
      },
      "outputs": [],
      "source": [
        "# Handle Outliers in Numerical Columns\n",
        "\n",
        "def cap_outliers(df, column):\n",
        "    Q1 = df[column].quantile(0.25)\n",
        "    Q3 = df[column].quantile(0.75)\n",
        "    IQR = Q3 - Q1\n",
        "    lower_bound = Q1 - 1.5 * IQR\n",
        "    upper_bound = Q3 + 1.5 * IQR\n",
        "    df[column] = df[column].clip(lower_bound, upper_bound)\n",
        "    return df\n",
        "\n",
        "# Apply to relevant numerical columns\n",
        "num_cols = ['credit_score', 'outstanding_debt', 'income', 'balance', 'tenure_years']\n",
        "for col in num_cols:\n",
        "    df[col] = pd.to_numeric(df[col], errors='coerce')  # ensure numeric\n",
        "    df = cap_outliers(df, col)"
      ]
    },
    {
      "cell_type": "code",
      "execution_count": 14,
      "metadata": {
        "id": "GAaXkAH5Oq2z"
      },
      "outputs": [],
      "source": [
        "# Process Date Column\n",
        "\n",
        "from datetime import datetime\n",
        "\n",
        "df['dob'] = pd.to_datetime(df['dob'], errors='coerce')\n",
        "df['age'] = df['dob'].apply(lambda x: datetime.now().year - x.year if pd.notnull(x) else None)"
      ]
    },
    {
      "cell_type": "code",
      "execution_count": 15,
      "metadata": {
        "id": "-mrDOIhkO21O"
      },
      "outputs": [],
      "source": [
        "# drop dob\n",
        "\n",
        "df.drop('dob', axis=1, inplace=True)"
      ]
    },
    {
      "cell_type": "code",
      "execution_count": 16,
      "metadata": {
        "id": "9mQx2wdbO_be"
      },
      "outputs": [],
      "source": [
        "# Feature Scaling\n",
        "\n",
        "from sklearn.preprocessing import StandardScaler\n",
        "\n",
        "scaler = StandardScaler()\n",
        "scaled_cols = ['credit_score', 'outstanding_debt', 'income', 'balance', 'tenure_years', 'age']\n",
        "df[scaled_cols] = scaler.fit_transform(df[scaled_cols])"
      ]
    },
    {
      "cell_type": "code",
      "execution_count": 17,
      "metadata": {
        "id": "nOEX_cbagzCf"
      },
      "outputs": [],
      "source": [
        "# Encode Categorical Features\n",
        "\n",
        "from sklearn.preprocessing import LabelEncoder\n",
        "\n",
        "le = LabelEncoder()\n",
        "df['gender'] = le.fit_transform(df['gender'])\n",
        "df['churned'] = le.fit_transform(df['churned'].astype(str))\n",
        "\n",
        "# One-hot encode multi-class\n",
        "# df = pd.get_dummies(df, columns=['occupation', 'education', 'segment', 'preferred_contact'], drop_first=True)"
      ]
    },
    {
      "cell_type": "code",
      "execution_count": 18,
      "metadata": {
        "id": "MzTem0Yxg7MP"
      },
      "outputs": [],
      "source": [
        "# save preprocessed csv\n",
        "\n",
        "# import os\n",
        "\n",
        "#os.makedirs(\"data/processed\", exist_ok=True)\n",
        "# df.to_csv(\"Customer_churn/data/churn_cleaned.csv\", index=False)\n",
        "\n",
        "# may be full with RAM"
      ]
    },
    {
      "cell_type": "code",
      "execution_count": 18,
      "metadata": {
        "id": "GFqbJSz2hq5f"
      },
      "outputs": [],
      "source": []
    },
    {
      "cell_type": "markdown",
      "metadata": {
        "id": "mJpNq_ij6Ug-"
      },
      "source": [
        "# Exploratory Data Analysis (EDA)"
      ]
    },
    {
      "cell_type": "code",
      "execution_count": 19,
      "metadata": {
        "id": "4e2JmUhr6YbV",
        "colab": {
          "base_uri": "https://localhost:8080/",
          "height": 489
        },
        "outputId": "6986cbc7-3eae-4478-bf83-3ab662e30c8c"
      },
      "outputs": [
        {
          "output_type": "execute_result",
          "data": {
            "text/plain": [
              "Text(0.5, 1.0, 'Churn Distribution')"
            ]
          },
          "metadata": {},
          "execution_count": 19
        },
        {
          "output_type": "display_data",
          "data": {
            "text/plain": [
              "<Figure size 640x480 with 1 Axes>"
            ],
            "image/png": "[encoded data removed]"
          },
          "metadata": {}
        }
      ],
      "source": [
        "# Churn Distribution\n",
        "\n",
        "import seaborn as sns\n",
        "import matplotlib.pyplot as plt\n",
        "\n",
        "sns.countplot(x='churned', data=df)\n",
        "churn_rate = df['churned'].value_counts(normalize=True)\n",
        "plt.title(\"Churn Distribution\")"
      ]
    },
    {
      "cell_type": "code",
      "execution_count": 20,
      "metadata": {
        "id": "s7apdiIKDrLZ",
        "colab": {
          "base_uri": "https://localhost:8080/",
          "height": 449
        },
        "outputId": "9b5e5c7b-dd77-4b61-e79d-64670419bf5b"
      },
      "outputs": [
        {
          "output_type": "display_data",
          "data": {
            "text/plain": [
              "<Figure size 640x480 with 1 Axes>"
            ],
            "image/png": "[encoded data removed]"
          },
          "metadata": {}
        }
      ],
      "source": [
        "# Churn by Gender, Segment, or Occupation\n",
        "\n",
        "sns.countplot(x='gender', hue='churned', data=df)\n",
        "plt.show()  # Add plt.show() to display the gender plot\n",
        "segment_cols = [col for col in df.columns if 'segment_' in col]\n",
        "\n",
        "for col in segment_cols:\n",
        "    sns.countplot(x=col, hue='churned', data=df)\n",
        "    plt.title(f\"Churn by {col}\")\n",
        "    plt.show()"
      ]
    },
    {
      "cell_type": "code",
      "execution_count": 21,
      "metadata": {
        "id": "d5-uNdfMDz8R",
        "colab": {
          "base_uri": "https://localhost:8080/",
          "height": 467
        },
        "outputId": "81c76e41-61fd-4177-bfec-3f3e63528518"
      },
      "outputs": [
        {
          "output_type": "execute_result",
          "data": {
            "text/plain": [
              "<Axes: xlabel='credit_score', ylabel='Count'>"
            ]
          },
          "metadata": {},
          "execution_count": 21
        },
        {
          "output_type": "display_data",
          "data": {
            "text/plain": [
              "<Figure size 640x480 with 1 Axes>"
            ],
            "image/png": "[encoded data removed]"
          },
          "metadata": {}
        }
      ],
      "source": [
        "# Numerical Feature Distributions\n",
        "\n",
        "sns.histplot(df['credit_score'], kde=True)\n",
        "sns.boxplot(x='churned', y='outstanding_debt', data=df)"
      ]
    },
    {
      "cell_type": "code",
      "execution_count": 22,
      "metadata": {
        "id": "fe29caef"
      },
      "outputs": [],
      "source": [
        "# Re-running necessary cells to define df\n",
        "import pandas as pd\n",
        "import numpy as np\n",
        "import matplotlib.pyplot as plt\n",
        "import seaborn as sns\n",
        "import matplotlib.pyplot as plt\n",
        "from sklearn.model_selection import train_test_split\n",
        "from sklearn.linear_model import LogisticRegression\n",
        "from sklearn.metrics import accuracy_score\n",
        "\n",
        "csv_url = \"https://raw.githubusercontent.com/SusheniUmayangana/Customer_churn/main/data/botswana_bank_customer_churn.csv\"\n",
        "# Specify dtypes to avoid the DtypeWarning\n",
        "dtype_spec = {'RowNumber': str, 'churned': str, 'complaints_count': str}\n",
        "df = pd.read_csv(csv_url, dtype=dtype_spec)\n",
        "\n",
        "df.columns = df.columns.str.strip().str.lower().str.replace(' ', '_')   #clean column names\n",
        "df.drop(['churn_reason', 'churn_date'], axis=1, inplace=True)   # Drop Irrelevant / High-Null Columns\n",
        "df.dropna(subset=['customer_id', 'rownumber'], inplace=True)   # Handle Missing Values\n",
        "\n",
        "# Fill categorical\n",
        "cat_cols = ['gender', 'marital_status', 'dependents', 'occupation', 'education',\n",
        "            'address', 'phone', 'segment', 'preferred_contact', 'credit_history_years',\n",
        "            'churned', 'products_count', 'complaints_count']\n",
        "for col in cat_cols:\n",
        "    df[col] = df[col].fillna(df[col].mode()[0])\n",
        "\n",
        "# Fill numerical\n",
        "num_cols = ['credit_score', 'outstanding_debt', 'income', 'balance', 'tenure_years']\n",
        "for col in num_cols:\n",
        "    df[col] = pd.to_numeric(df[col], errors='coerce')  # convert to numeric\n",
        "    df[col] = df[col].fillna(df[col].median())\n",
        "\n",
        "df.drop_duplicates(inplace=True)    # Remove duplicates\n",
        "\n",
        "# Encode Categorical Features\n",
        "from sklearn.preprocessing import LabelEncoder\n",
        "\n",
        "le = LabelEncoder()\n",
        "df['gender'] = le.fit_transform(df['gender'])\n",
        "df['churned'] = le.fit_transform(df['churned'].astype(str))\n",
        "\n",
        "# One-hot encode multi-class\n",
        "df = pd.get_dummies(df, columns=['occupation', 'education', 'segment', 'preferred_contact'], drop_first=True)"
      ]
    },
    {
      "cell_type": "code",
      "execution_count": 29,
      "metadata": {
        "colab": {
          "base_uri": "https://localhost:8080/",
          "height": 611
        },
        "id": "f1GNGtUrD8Aw",
        "outputId": "dab05579-8c02-49de-edef-e516ac342733"
      },
      "outputs": [
        {
          "output_type": "display_data",
          "data": {
            "text/plain": [
              "<Figure size 800x600 with 2 Axes>"
            ],
            "image/png": "[encoded data removed]"
          },
          "metadata": {}
        }
      ],
      "source": [
        "# Step 1: Select numeric columns and clean them\n",
        "num_cols = df.select_dtypes(include=np.number).columns\n",
        "df_numeric = df[num_cols].copy()\n",
        "\n",
        "# Step 2: Coerce errors and fill NaNs with column median\n",
        "df_numeric = df_numeric.apply(pd.to_numeric, errors='coerce')\n",
        "df_numeric = df_numeric.fillna(df_numeric.median())\n",
        "\n",
        "# Step 3: Optional downsampling for performance\n",
        "df_sampled = df_numeric.sample(n=10000, random_state=42)\n",
        "\n",
        "# Step 4: Compute correlation matrix\n",
        "corr = df_sampled.corr()\n",
        "\n",
        "# Step 5: Optional filtering to highlight stronger relationships\n",
        "# corr = corr[(corr > 0.3) | (corr < -0.3)]\n",
        "\n",
        "# Step 6: Create upper triangle mask\n",
        "mask = np.triu(np.ones_like(corr, dtype=bool))\n",
        "\n",
        "# Step 7: Plot heatmap\n",
        "sns.set(font_scale=0.7)  # adjust font size for readability\n",
        "plt.figure(figsize=(8, 6))  # adjust figure size\n",
        "sns.heatmap(corr, mask=mask, cmap='coolwarm', annot=True, fmt=\".2f\", linewidths=0.3)\n",
        "\n",
        "plt.title(\"Correlation Heatmap\", fontsize=10)\n",
        "plt.tight_layout()\n",
        "plt.show()"
      ]
    },
    {
      "cell_type": "code",
      "execution_count": 25,
      "metadata": {
        "colab": {
          "base_uri": "https://localhost:8080/",
          "height": 1000
        },
        "id": "8xmWwrPEP6YK",
        "outputId": "cf1c217a-4e6b-42a9-8fc2-eec64db42c15"
      },
      "outputs": [
        {
          "output_type": "display_data",
          "data": {
            "text/plain": [
              "<Figure size 640x480 with 1 Axes>"
            ],
            "image/png": "[encoded data removed]"
          },
          "metadata": {}
        },
        {
          "output_type": "display_data",
          "data": {
            "text/plain": [
              "<Figure size 640x480 with 1 Axes>"
            ],
            "image/png": "[encoded data removed]"
          },
          "metadata": {}
        },
        {
          "output_type": "display_data",
          "data": {
            "text/plain": [
              "<Figure size 640x480 with 1 Axes>"
            ],
            "image/png": "[encoded data removed]"
          },
          "metadata": {}
        }
      ],
      "source": [
        "# Numerical Features vs. Churn\n",
        "\n",
        "import seaborn as sns\n",
        "import matplotlib.pyplot as plt\n",
        "\n",
        "# Boxplot: Income vs Churn\n",
        "sns.boxplot(x='churned', y='income', data=df)\n",
        "plt.title(\"Income Distribution by Churn Status\")\n",
        "plt.show()\n",
        "\n",
        "# Violin plot: Balance vs Churn\n",
        "sns.violinplot(x='churned', y='balance', data=df)\n",
        "plt.title(\"Balance Distribution by Churn Status\")\n",
        "plt.show()\n",
        "\n",
        "# Boxplot: Tenure vs Churn\n",
        "sns.boxplot(x='churned', y='tenure_years', data=df)\n",
        "plt.title(\"Tenure vs Churn\")\n",
        "plt.show()"
      ]
    }
  ],
  "metadata": {
    "colab": {
      "provenance": [],
      "include_colab_link": true
    },
    "kernelspec": {
      "display_name": "Python 3",
      "name": "python3"
    },
    "language_info": {
      "name": "python"
    }
  },
  "nbformat": 4,
  "nbformat_minor": 0
}